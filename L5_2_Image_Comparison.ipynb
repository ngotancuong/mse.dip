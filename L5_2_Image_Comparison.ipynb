{
  "nbformat": 4,
  "nbformat_minor": 0,
  "metadata": {
    "colab": {
      "provenance": [],
      "authorship_tag": "ABX9TyMX5jjiisOe/tXDVkfiLUvd",
      "include_colab_link": true
    },
    "kernelspec": {
      "name": "python3",
      "display_name": "Python 3"
    },
    "language_info": {
      "name": "python"
    }
  },
  "cells": [
    {
      "cell_type": "markdown",
      "metadata": {
        "id": "view-in-github",
        "colab_type": "text"
      },
      "source": [
        "<a href=\"https://colab.research.google.com/github/ngotancuong/mse.dip/blob/main/L5_2_Image_Comparison.ipynb\" target=\"_parent\"><img src=\"https://colab.research.google.com/assets/colab-badge.svg\" alt=\"Open In Colab\"/></a>"
      ]
    },
    {
      "cell_type": "code",
      "execution_count": null,
      "metadata": {
        "colab": {
          "base_uri": "https://localhost:8080/",
          "height": 299
        },
        "id": "1N8eiwkP_bo2",
        "outputId": "cf942e12-db29-410e-84ff-2e0ed2958bd4"
      },
      "outputs": [
        {
          "output_type": "display_data",
          "data": {
            "text/plain": [
              "<Figure size 432x288 with 1 Axes>"
            ],
            "image/png": "[encoded data removed]"
          },
          "metadata": {
            "needs_background": "light"
          }
        },
        {
          "output_type": "execute_result",
          "data": {
            "text/plain": [
              "True"
            ]
          },
          "metadata": {},
          "execution_count": 4
        }
      ],
      "source": [
        "import cv2\n",
        "import numpy as np\n",
        "import matplotlib.pyplot as plt\n",
        "import urllib.request\n",
        "\n",
        "#load test images\n",
        "#maskImg1 = cv2.imread('mask1.png', cv2.IMREAD_GRAYSCALE).astype(float)/255.0\n",
        "#maskImg2 = cv2.imread('mask2.png', cv2.IMREAD_GRAYSCALE).astype(float)/255.0\n",
        "# load test images\n",
        "mask1 = urllib.request.urlopen('https://raw.githubusercontent.com/ngotancuong/mse.dip/main/images/mask1.png')\n",
        "arr = np.asarray(bytearray(mask1.read()), dtype=np.uint8)\n",
        "maskImg1 = cv2.imdecode(arr, -1)/255.0 # 'Load it as it is'\n",
        "\n",
        "mask2 = urllib.request.urlopen('https://raw.githubusercontent.com/ngotancuong/mse.dip/main/images/mask2.png')\n",
        "arr = np.asarray(bytearray(mask2.read()), dtype=np.uint8)\n",
        "maskImg2 = cv2.imdecode(arr, -1)/255.0 # 'Load it as it is'\n",
        "\n",
        "#perform image subtraction and comparison\n",
        "diffImg = np.abs(maskImg1 - maskImg2)\n",
        "plt.imshow(diffImg, cmap='gray')\n",
        "plt.title('Difference Image')\n",
        "plt.show()\n",
        "cv2.imwrite('Mask_Compasion_diff.png', diffImg*255)"
      ]
    }
  ]
}